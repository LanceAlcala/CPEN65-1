{
  "nbformat": 4,
  "nbformat_minor": 0,
  "metadata": {
    "colab": {
      "provenance": [],
      "authorship_tag": "ABX9TyMpwdrm9PYXbNK7wEgUiBQ7",
      "include_colab_link": true
    },
    "kernelspec": {
      "name": "python3",
      "display_name": "Python 3"
    },
    "language_info": {
      "name": "python"
    }
  },
  "cells": [
    {
      "cell_type": "markdown",
      "metadata": {
        "id": "view-in-github",
        "colab_type": "text"
      },
      "source": [
        "<a href=\"https://colab.research.google.com/github/LanceAlcala/CPEN65-1/blob/main/Python_Module.ipynb\" target=\"_parent\"><img src=\"https://colab.research.google.com/assets/colab-badge.svg\" alt=\"Open In Colab\"/></a>"
      ]
    },
    {
      "cell_type": "markdown",
      "source": [
        "Array Module in Python"
      ],
      "metadata": {
        "id": "usM0GNPIZDeS"
      }
    },
    {
      "cell_type": "code",
      "source": [
        "#getting type codes\n",
        "\n",
        "import array as arr\n",
        "arr.typecodes\n",
        "a = arr.array('i',[1,2,3,4,5,6])\n",
        "print(a.typecode)\n",
        "b = arr.array('f',[1,5,2,5,3,5,4,5,5,5,6,5])\n",
        "print(b.typecode)"
      ],
      "metadata": {
        "colab": {
          "base_uri": "https://localhost:8080/"
        },
        "id": "o7gzB3OfZHQ4",
        "outputId": "a29038d8-c8a2-43a3-ad55-19f77664a67f"
      },
      "execution_count": null,
      "outputs": [
        {
          "output_type": "stream",
          "name": "stdout",
          "text": [
            "i\n",
            "f\n"
          ]
        }
      ]
    },
    {
      "cell_type": "code",
      "source": [
        "import array as arr\n",
        "a = arr.array('i',[4,5,6,7])\n",
        "\n",
        "print(a)\n",
        "c = a.insert(1,2)\n",
        "print(a)\n",
        "\n",
        "a.insert(-1,0)\n",
        "print(a)\n",
        "\n",
        "a.insert(6,8)\n",
        "print(a)\n",
        "\n",
        "a.insert(10,-1)\n",
        "print(a)"
      ],
      "metadata": {
        "colab": {
          "base_uri": "https://localhost:8080/"
        },
        "id": "gnSUBwtgZj7w",
        "outputId": "a98e6534-10fc-4327-e8eb-7c0edb8d2040"
      },
      "execution_count": null,
      "outputs": [
        {
          "output_type": "stream",
          "name": "stdout",
          "text": [
            "array('i', [4, 5, 6, 7])\n",
            "array('i', [4, 2, 5, 6, 7])\n",
            "array('i', [4, 2, 5, 6, 0, 7])\n",
            "array('i', [4, 2, 5, 6, 0, 7, 8])\n",
            "array('i', [4, 2, 5, 6, 0, 7, 8, -1])\n"
          ]
        }
      ]
    },
    {
      "cell_type": "markdown",
      "source": [
        "Linked-List"
      ],
      "metadata": {
        "id": "JK_OYmqTaHKB"
      }
    },
    {
      "cell_type": "code",
      "source": [
        "#Python program to create a singly linked of vowel in English\n",
        "\n",
        "#Node Class\n",
        "class Node:\n",
        "  #function to initialize the node object\n",
        "  def __init__(self,data):\n",
        "    self.data = data\n",
        "    self.next = None\n",
        "\n",
        "#Linked-list that contains node object\n",
        "class LinkedList:\n",
        "  def __init__(self):\n",
        "    self.head = None\n",
        "\n",
        "  def printlist(self):\n",
        "    temp = self.head\n",
        "    while (temp):\n",
        "      print(temp.data)\n",
        "      temp = temp.next\n",
        "\n",
        "#code execution starting from empty list\n",
        "llist = LinkedList()\n",
        "llist.head = Node('a')\n",
        "second = Node('e')\n",
        "third = Node('i')\n",
        "fourth = Node('o')\n",
        "fifth = Node('u')\n",
        "\n",
        "llist.head.next = second\n",
        "second.next = third\n",
        "third.next = fourth\n",
        "fourth.next = fifth\n",
        "\n",
        "llist.printlist()"
      ],
      "metadata": {
        "colab": {
          "base_uri": "https://localhost:8080/"
        },
        "id": "QYtQBMVvaJ2f",
        "outputId": "17c0e9cd-91c5-4d53-93ce-f297dd969977"
      },
      "execution_count": null,
      "outputs": [
        {
          "output_type": "stream",
          "name": "stdout",
          "text": [
            "a\n",
            "e\n",
            "i\n",
            "o\n",
            "u\n"
          ]
        }
      ]
    }
  ]
}