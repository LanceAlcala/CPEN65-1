{
  "nbformat": 4,
  "nbformat_minor": 0,
  "metadata": {
    "colab": {
      "provenance": [],
      "authorship_tag": "ABX9TyOdU03kRP11R5WG87IzGYXy",
      "include_colab_link": true
    },
    "kernelspec": {
      "name": "python3",
      "display_name": "Python 3"
    },
    "language_info": {
      "name": "python"
    }
  },
  "cells": [
    {
      "cell_type": "markdown",
      "metadata": {
        "id": "view-in-github",
        "colab_type": "text"
      },
      "source": [
        "<a href=\"https://colab.research.google.com/github/LanceAlcala/CPEN65-1/blob/main/Alcala%2CLanceWesley_Midterm_Exam.ipynb\" target=\"_parent\"><img src=\"https://colab.research.google.com/assets/colab-badge.svg\" alt=\"Open In Colab\"/></a>"
      ]
    },
    {
      "cell_type": "markdown",
      "source": [
        "1.\tWrite a Python program to create an array of 10 integers and display the array items. Access individual elements through indexes and compute for the sum."
      ],
      "metadata": {
        "id": "0Lfc2rb_JeOC"
      }
    },
    {
      "cell_type": "code",
      "source": [
        "integers = [1,2,3,4,5,6,7,8,9,10]\n",
        "print(\"The items inside the array are:\")\n",
        "for x in integers:\n",
        "  print(x, end = ' ')\n",
        "print(\"\\n\",\"Input the index to get the sum of two items.\")\n",
        "\n",
        "a = int(input(\"First Index: \"))\n",
        "b = int(input(\"Second Index: \"))\n",
        "\n",
        "arr_sum = (integers[a]+integers[b])\n",
        "print(\"The sum of the two integers is:\",arr_sum)"
      ],
      "metadata": {
        "colab": {
          "base_uri": "https://localhost:8080/"
        },
        "id": "lPKy3hmlL_Nh",
        "outputId": "20751ce5-a8a4-425f-a1d7-81902da39594"
      },
      "execution_count": 28,
      "outputs": [
        {
          "output_type": "stream",
          "name": "stdout",
          "text": [
            "The items inside the array are:\n",
            "1 2 3 4 5 6 7 8 9 10 \n",
            " Input the index to get the sum of two items.\n",
            "First Index: 1\n",
            "Second Index: 3\n",
            "The sum of the two integers is: 6\n"
          ]
        }
      ]
    },
    {
      "cell_type": "markdown",
      "source": [
        "2.\tWrite a Python program to append a new item to the end of the array. Original array: numbers = [1, 2, 3, 4, 5, 6, 7, 8, 9, 10]"
      ],
      "metadata": {
        "id": "gORQcPnyMOkr"
      }
    },
    {
      "cell_type": "code",
      "source": [
        "x = float(input(\"Input a number here to add to the end of the array: \"))\n",
        "numbers = [1, 2, 3, 4, 5, 6, 7, 8, 9, 10]\n",
        "print(\"Original array: \",numbers)\n",
        "numbers.append(x)\n",
        "print(\"Array after append: \",numbers)"
      ],
      "metadata": {
        "colab": {
          "base_uri": "https://localhost:8080/"
        },
        "id": "mQyB0C4NMPsB",
        "outputId": "dccdaaf0-2e8b-4887-ea27-3cfdf8502996"
      },
      "execution_count": 23,
      "outputs": [
        {
          "output_type": "stream",
          "name": "stdout",
          "text": [
            "Input a number here to add to the end of the array: 2\n",
            "Original array:  [1, 2, 3, 4, 5, 6, 7, 8, 9, 10]\n",
            "Array after append:  [1, 2, 3, 4, 5, 6, 7, 8, 9, 10, 2.0]\n"
          ]
        }
      ]
    },
    {
      "cell_type": "markdown",
      "source": [
        "3.\tWrite a Python program to insert a new item before the last element in an existing array. Original array: numbers = [1, 2, 3, 4, 5, 6, 7, 8, 9, 10]"
      ],
      "metadata": {
        "id": "Bmte3An_NTgD"
      }
    },
    {
      "cell_type": "code",
      "source": [
        "x = float(input(\"Input a number here to add to the end of the array: \"))\n",
        "numbers = [1, 2, 3, 4, 5, 6, 7, 8, 9, 10]\n",
        "print(\"Original array: \",numbers)\n",
        "numbers.insert(9,x)\n",
        "print(\"Array after insert: \",numbers)"
      ],
      "metadata": {
        "colab": {
          "base_uri": "https://localhost:8080/"
        },
        "id": "DirHMzGWNWiC",
        "outputId": "551af545-a0f0-41f0-c7d3-d7615e9d5bb1"
      },
      "execution_count": 26,
      "outputs": [
        {
          "output_type": "stream",
          "name": "stdout",
          "text": [
            "Input a number here to add to the end of the array: 1\n",
            "Original array:  [1, 2, 3, 4, 5, 6, 7, 8, 9, 10]\n",
            "Array after insert:  [1, 2, 3, 4, 5, 6, 7, 8, 9, 1.0, 10]\n"
          ]
        }
      ]
    },
    {
      "cell_type": "markdown",
      "source": [
        "4.\tWrite a Python program to reverse the order of the items in the array. Original array: numbers = [1, 2, 3, 4, 5]"
      ],
      "metadata": {
        "id": "I7UlYSPYNraL"
      }
    },
    {
      "cell_type": "code",
      "source": [
        "numbers = [1,2,3,4,5]\n",
        "print(\"Original array: \",numbers)\n",
        "numbers.reverse()\n",
        "print(\"Array after reverse: \",numbers)"
      ],
      "metadata": {
        "colab": {
          "base_uri": "https://localhost:8080/"
        },
        "id": "52jQ6LXCNsCa",
        "outputId": "1ca8524f-aece-44f2-d21a-b718653abd1d"
      },
      "execution_count": 27,
      "outputs": [
        {
          "output_type": "stream",
          "name": "stdout",
          "text": [
            "Original array:  [1, 2, 3, 4, 5]\n",
            "Array after reverse:  [5, 4, 3, 2, 1]\n"
          ]
        }
      ]
    },
    {
      "cell_type": "markdown",
      "source": [
        "5.\tLet A be an array of size n ≥ 2 containing integers from 1 to n−1, inclusive, with exactly one repeated. Create an algorithm for finding the integer in A that is repeated."
      ],
      "metadata": {
        "id": "SeXGi-MSOCPS"
      }
    },
    {
      "cell_type": "code",
      "source": [
        "#n = 6\n",
        "A = [1,2,3,4,4,5]\n",
        "dup = []\n",
        "\n",
        "print(\"The items inside the array are:\")\n",
        "for z in A:\n",
        "  print(z, end = ' ')\n",
        "\n",
        "for x in A:\n",
        "  if x not in dup:\n",
        "    dup.append(x)\n",
        "  else:\n",
        "    print(\"\\n\",\"The repeating element/s in array A:\",\"\\n\", x)"
      ],
      "metadata": {
        "colab": {
          "base_uri": "https://localhost:8080/"
        },
        "id": "uXgzyq00euq_",
        "outputId": "141d5a16-a55b-44e8-8f0f-cffa4e9766f6"
      },
      "execution_count": 45,
      "outputs": [
        {
          "output_type": "stream",
          "name": "stdout",
          "text": [
            "The items inside the array are:\n",
            "1 2 3 4 4 5 \n",
            " The repeating element/s in array A: \n",
            " 4\n"
          ]
        }
      ]
    }
  ]
}