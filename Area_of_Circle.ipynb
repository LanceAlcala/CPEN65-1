{
  "nbformat": 4,
  "nbformat_minor": 0,
  "metadata": {
    "colab": {
      "provenance": [],
      "collapsed_sections": [],
      "authorship_tag": "ABX9TyNSbDl8boH28vRPYiFd4RXT",
      "include_colab_link": true
    },
    "kernelspec": {
      "name": "python3",
      "display_name": "Python 3"
    },
    "language_info": {
      "name": "python"
    }
  },
  "cells": [
    {
      "cell_type": "markdown",
      "metadata": {
        "id": "view-in-github",
        "colab_type": "text"
      },
      "source": [
        "<a href=\"https://colab.research.google.com/github/LanceAlcala/CPEN65-1/blob/main/Area_of_Circle.ipynb\" target=\"_parent\"><img src=\"https://colab.research.google.com/assets/colab-badge.svg\" alt=\"Open In Colab\"/></a>"
      ]
    },
    {
      "cell_type": "markdown",
      "source": [
        "##Create a python program that computes the area of a circle. Can accept either radius or diameter"
      ],
      "metadata": {
        "id": "6L0juHHrV5eM"
      }
    },
    {
      "cell_type": "code",
      "source": [
        "import math\n",
        "\n",
        "value = float(input(\"Input the value of radius or diameter here: \"))\n",
        "unit = input(\"Determine the value. Input (d) for diameter, (r) for radius: \")\n",
        "rad = \"r\"\n",
        "dia = \"d\"\n",
        "class circle:\n",
        "  def area(self):\n",
        "    if unit == \"r\":\n",
        "      r = round((math.pi)*(value**2),2)\n",
        "      print(\"The area of the circle is:\",r)\n",
        "    elif unit == \"d\":\n",
        "      d = round((math.pi*(value**2))/4,2)\n",
        "      print(\"The area of the circle is:\",d)\n",
        "    elif unit is not rad or unit is not dia:\n",
        "      print(\"Input d or r only!\")\n",
        "solve = circle\n",
        "solve.area(0)"
      ],
      "metadata": {
        "colab": {
          "base_uri": "https://localhost:8080/"
        },
        "id": "q1txEFIU2czy",
        "outputId": "9a9655b1-9214-4947-e24c-51ab21e7cc3e"
      },
      "execution_count": 21,
      "outputs": [
        {
          "output_type": "stream",
          "name": "stdout",
          "text": [
            "Input the value of radius or diameter here: 4\n",
            "Determine the value. Input (d) for diameter, (r) for radius: d\n",
            "The area of the circle is: 12.57\n"
          ]
        }
      ]
    }
  ]
}