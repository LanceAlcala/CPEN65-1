{
  "nbformat": 4,
  "nbformat_minor": 0,
  "metadata": {
    "colab": {
      "provenance": [],
      "authorship_tag": "ABX9TyMDw1K0tz0lnRsnf6jbAdFX",
      "include_colab_link": true
    },
    "kernelspec": {
      "name": "python3",
      "display_name": "Python 3"
    },
    "language_info": {
      "name": "python"
    }
  },
  "cells": [
    {
      "cell_type": "markdown",
      "metadata": {
        "id": "view-in-github",
        "colab_type": "text"
      },
      "source": [
        "<a href=\"https://colab.research.google.com/github/LanceAlcala/CPEN65-1/blob/main/Array.ipynb\" target=\"_parent\"><img src=\"https://colab.research.google.com/assets/colab-badge.svg\" alt=\"Open In Colab\"/></a>"
      ]
    },
    {
      "cell_type": "code",
      "execution_count": 7,
      "metadata": {
        "colab": {
          "base_uri": "https://localhost:8080/"
        },
        "id": "FFQQJJn84NBX",
        "outputId": "5d99ca52-f3d2-4cf6-ceae-a9110027788d"
      },
      "outputs": [
        {
          "output_type": "stream",
          "name": "stdout",
          "text": [
            "Array[0] = cat\n",
            "Array[1] = dog\n",
            "Array[2] = fish\n"
          ]
        }
      ],
      "source": [
        "#Accessing the elements in an Array\n",
        "animals = [\"cat\",\"dog\",\"fish\"]\n",
        "x = animals[0]\n",
        "y = animals[1]\n",
        "z = animals[2]\n",
        "print(\"Array[0] =\",x)\n",
        "print(\"Array[1] =\",y)\n",
        "print(\"Array[2] =\",z)"
      ]
    },
    {
      "cell_type": "code",
      "source": [
        "#Modifying the element/s in an Array\n",
        "animals = [\"cat\",\"dog\",\"fish\"]\n",
        "animals[0] = \"monkey\"\n",
        "x = animals[0]\n",
        "print(\"Array[0] =\",x)\n",
        "print(animals)"
      ],
      "metadata": {
        "colab": {
          "base_uri": "https://localhost:8080/"
        },
        "id": "x_YrnNhk5ZKF",
        "outputId": "8b14c672-1e38-42d4-89be-ba1c70082718"
      },
      "execution_count": 10,
      "outputs": [
        {
          "output_type": "stream",
          "name": "stdout",
          "text": [
            "Array[0] = monkey\n",
            "['monkey', 'dog', 'fish']\n"
          ]
        }
      ]
    },
    {
      "cell_type": "code",
      "source": [
        "#Length of an Array\n",
        "animals = [\"monkey\",\"dog\",\"fish\",\"cat\",\"birds\"]\n",
        "v = len(animals)\n",
        "print(v)"
      ],
      "metadata": {
        "colab": {
          "base_uri": "https://localhost:8080/"
        },
        "id": "hn0pFG6q6IIR",
        "outputId": "d91ffc2d-9548-4bd6-bdac-c2eeedd19da9"
      },
      "execution_count": 14,
      "outputs": [
        {
          "output_type": "stream",
          "name": "stdout",
          "text": [
            "5\n"
          ]
        }
      ]
    },
    {
      "cell_type": "code",
      "source": [
        "#Looping Array Elements\n",
        "animals = [\"monkey\",\"dog\",\"fish\",\"cat\",\"birds\"]\n",
        "for index, val in enumerate(animals):\n",
        "  print(index,val)"
      ],
      "metadata": {
        "colab": {
          "base_uri": "https://localhost:8080/"
        },
        "id": "n4nPPsPO9SxO",
        "outputId": "8e45ddb1-8edc-498a-a735-7cb1bb10f154"
      },
      "execution_count": 23,
      "outputs": [
        {
          "output_type": "stream",
          "name": "stdout",
          "text": [
            "0 monkey\n",
            "1 dog\n",
            "2 fish\n",
            "3 cat\n",
            "4 birds\n"
          ]
        }
      ]
    },
    {
      "cell_type": "code",
      "source": [
        "#my try\n",
        "#Looping Array Elements\n",
        "animals = [\"monkey\",\"dog\",\"fish\",\"cat\",\"birds\"]\n",
        "for x in animals:\n",
        "  if x is \"monkey\":\n",
        "    print(\"Array[0]\",x)\n",
        "  elif x is \"dog\":\n",
        "    print(\"Array[1]\",x)\n",
        "  elif x is \"fish\":\n",
        "    print(\"Array[2]\",x)\n",
        "  elif x is \"cat\":\n",
        "    print(\"Array[3]\",x)\n",
        "  elif x is \"birds\":\n",
        "    print(\"Array[4]\",x)"
      ],
      "metadata": {
        "colab": {
          "base_uri": "https://localhost:8080/"
        },
        "id": "gfa2O-yh6t8H",
        "outputId": "59aacea9-4bb3-4269-c38f-eaf348b7f825"
      },
      "execution_count": 22,
      "outputs": [
        {
          "output_type": "stream",
          "name": "stdout",
          "text": [
            "Array[0] monkey\n",
            "Array[1] dog\n",
            "Array[2] fish\n",
            "Array[3] cat\n",
            "Array[4] birds\n"
          ]
        }
      ]
    },
    {
      "cell_type": "code",
      "source": [
        "#Adding Elements in the Array\n",
        "animals = [\"monkey\",\"dog\",\"fish\",\"cat\",\"birds\"]\n",
        "animals.append(\"lion\")\n",
        "print(animals)"
      ],
      "metadata": {
        "colab": {
          "base_uri": "https://localhost:8080/"
        },
        "id": "Mb0-urTU9UmM",
        "outputId": "3eb2d230-7ad1-4ad1-c7a3-37a0f4515d1e"
      },
      "execution_count": 24,
      "outputs": [
        {
          "output_type": "stream",
          "name": "stdout",
          "text": [
            "['monkey', 'dog', 'fish', 'cat', 'birds', 'lion']\n"
          ]
        }
      ]
    },
    {
      "cell_type": "code",
      "source": [
        "#Write a python program to insert a new item ('11') before the second element in an existing array.\n",
        "numbers = [1,2,3,4,5,6,7,8,9,10]\n",
        "numbers.insert(1,11)\n",
        "print(numbers)"
      ],
      "metadata": {
        "colab": {
          "base_uri": "https://localhost:8080/"
        },
        "id": "Zjn579Cl96vW",
        "outputId": "a3d7c42d-801b-463d-8a85-01db8fa0bd9c"
      },
      "execution_count": 29,
      "outputs": [
        {
          "output_type": "stream",
          "name": "stdout",
          "text": [
            "[1, 11, 2, 3, 4, 5, 6, 7, 8, 9, 10]\n"
          ]
        }
      ]
    },
    {
      "cell_type": "code",
      "source": [
        "#Removing an Element in the Array\n",
        "print(numbers)\n",
        "numbers.pop(1)\n",
        "print()"
      ],
      "metadata": {
        "colab": {
          "base_uri": "https://localhost:8080/"
        },
        "id": "dAq9aKic-1Nj",
        "outputId": "a289c17d-9252-4b8a-f2c8-0d948fcab9dc"
      },
      "execution_count": 31,
      "outputs": [
        {
          "output_type": "stream",
          "name": "stdout",
          "text": [
            "[1, 3, 4, 5, 6, 7, 8, 9, 10]\n"
          ]
        }
      ]
    }
  ]
}