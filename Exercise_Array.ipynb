{
  "nbformat": 4,
  "nbformat_minor": 0,
  "metadata": {
    "colab": {
      "provenance": [],
      "authorship_tag": "ABX9TyNYZEhta8SjCWHGiJe4kyPr",
      "include_colab_link": true
    },
    "kernelspec": {
      "name": "python3",
      "display_name": "Python 3"
    },
    "language_info": {
      "name": "python"
    }
  },
  "cells": [
    {
      "cell_type": "markdown",
      "metadata": {
        "id": "view-in-github",
        "colab_type": "text"
      },
      "source": [
        "<a href=\"https://colab.research.google.com/github/LanceAlcala/CPEN65-1/blob/main/Exercise_Array.ipynb\" target=\"_parent\"><img src=\"https://colab.research.google.com/assets/colab-badge.svg\" alt=\"Open In Colab\"/></a>"
      ]
    },
    {
      "cell_type": "markdown",
      "source": [
        "#Exercise\n",
        "###1. Create a Python program that use Array\n",
        "###2. Insert each character of your full name and displays each character of your full name in reverse order"
      ],
      "metadata": {
        "id": "shiAHCv-TIk1"
      }
    },
    {
      "cell_type": "code",
      "source": [
        "x = str(input(\"Input your name here: \"))\n",
        "array = list(x)\n",
        "print(\"This is before reverse:\",*array)\n",
        "array.reverse()\n",
        "print(\"This is after reverse:\",*array)"
      ],
      "metadata": {
        "colab": {
          "base_uri": "https://localhost:8080/"
        },
        "id": "VTQCBQ7cbiKv",
        "outputId": "dd65b64e-923c-4ff3-cd06-8e8066d360d3"
      },
      "execution_count": 49,
      "outputs": [
        {
          "output_type": "stream",
          "name": "stdout",
          "text": [
            "Input your name here: Lance Wesley B. Alcala\n",
            "This is before reverse: L a n c e   W e s l e y   B .   A l c a l a\n",
            "This is after reverse: a l a c l A   . B   y e l s e W   e c n a L\n"
          ]
        }
      ]
    },
    {
      "cell_type": "code",
      "source": [
        "#Inserting each letter of name\n",
        "try:\n",
        "  array = []\n",
        "  while True:\n",
        "    x = str(input(\"Input your name here: \"))\n",
        "    array.append(x)\n",
        "except:\n",
        "  print(\"This is before reverse:\",*array)\n",
        "  array.reverse()\n",
        "  print(\"This is after reverse:\",*array)"
      ],
      "metadata": {
        "colab": {
          "base_uri": "https://localhost:8080/"
        },
        "id": "aj5QWYZQfH4o",
        "outputId": "1e6d963f-b1f0-491e-ec77-e4ccfefc515b"
      },
      "execution_count": 53,
      "outputs": [
        {
          "output_type": "stream",
          "name": "stdout",
          "text": [
            "Input your name here: l\n",
            "Input your name here: a\n",
            "Input your name here: n\n",
            "Input your name here: c\n",
            "Input your name here: e\n",
            "Input your name here: w\n",
            "Input your name here: e\n",
            "Input your name here: s\n",
            "Input your name here: l\n",
            "Input your name here: e\n",
            "Input your name here: y\n",
            "Input your name here: a\n",
            "Input your name here: l\n",
            "Input your name here: c\n",
            "Input your name here: a\n",
            "Input your name here: l\n",
            "Input your name here: a\n",
            "This is before reverse: l a n c e w e s l e y a l c a l a\n",
            "This is after reverse: a l a c l a y e l s e w e c n a l\n"
          ]
        }
      ]
    }
  ]
}